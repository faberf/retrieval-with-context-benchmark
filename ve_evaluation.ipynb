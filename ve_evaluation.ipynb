{
 "cells": [
  {
   "cell_type": "code",
   "execution_count": 31,
   "metadata": {},
   "outputs": [],
   "source": [
    "import ujson as json\n",
    "import seaborn as sns\n",
    "import pandas as pd\n",
    "import matplotlib.pyplot as plt\n",
    "import numpy as np\n",
    "import os"
   ]
  },
  {
   "cell_type": "code",
   "execution_count": 3,
   "metadata": {},
   "outputs": [],
   "source": [
    "results = 've-benchmarking/query_results/'\n",
    "\n",
    "with open(results + \"asr.json\", \"r\") as f:\n",
    "    results_asr = json.load(f)\n",
    "\n",
    "with open(results + \"caption.json\", \"r\") as f:\n",
    "    results_caption = json.load(f)\n",
    "\n",
    "with open(results + \"clip.json\", \"r\") as f:\n",
    "    results_clip = json.load(f)\n",
    "\n",
    "with open(results + \"ocr.json\", \"r\") as f:\n",
    "    results_ocr = json.load(f)\n",
    "\n",
    "with open(results + \"mix.json\", \"r\") as f:\n",
    "    results_mix = json.load(f)"
   ]
  },
  {
   "cell_type": "code",
   "execution_count": 61,
   "metadata": {},
   "outputs": [],
   "source": [
    "def iou(query,candidate):\n",
    "    # convert nanoseconds to seconds\n",
    "    candidate_start = int(candidate[\"properties\"][\"start\"]) / 1000000000.0\n",
    "    candidate_end = int(candidate[\"properties\"][\"end\"]) / 1000000000.0\n",
    "    truth_start = query[\"segments\"][0][0]\n",
    "    truth_end = query[\"segments\"][0][1]\n",
    "\n",
    "    intersection = min(truth_end,candidate_end)-max(truth_start,candidate_start)\n",
    "    if intersection < 0:\n",
    "        # negative intersection = no overlap = IOU 0\n",
    "        return 0.0\n",
    "    \n",
    "    union = (candidate_end-candidate_start) + (truth_end-truth_start) - intersection\n",
    "    return intersection/union"
   ]
  },
  {
   "cell_type": "code",
   "execution_count": 62,
   "metadata": {},
   "outputs": [],
   "source": [
    "def rank(query,candidates):\n",
    "    truth = query[\"files\"]\n",
    "    rank = float(\"inf\")\n",
    "    for i in range(len(candidates)):\n",
    "        cand_file = os.path.basename(candidates[i][\"properties\"][\"path\"])\n",
    "        if cand_file in truth:\n",
    "            rank = i+1\n",
    "            break\n",
    "\n",
    "    return rank"
   ]
  },
  {
   "cell_type": "markdown",
   "metadata": {},
   "source": [
    "## Intersection-over-union for video retrievables"
   ]
  },
  {
   "cell_type": "code",
   "execution_count": 71,
   "metadata": {},
   "outputs": [],
   "source": [
    "mix_iou = []\n",
    "for query in results_mix:\n",
    "    if \"segments\" in query[\"query\"] and len(query[\"response\"][\"retrievables\"])>0 and \"start\" in query[\"response\"][\"retrievables\"][0][\"properties\"]: \n",
    "        iou_score = iou(query[\"query\"],query[\"response\"][\"retrievables\"][0])\n",
    "        mix_iou.append({\n",
    "            \"query\": query[\"query\"],\n",
    "            \"iou\": iou_score\n",
    "        })\n"
   ]
  },
  {
   "cell_type": "markdown",
   "metadata": {},
   "source": [
    "## MRR for image retrievables"
   ]
  },
  {
   "cell_type": "markdown",
   "metadata": {},
   "source": []
  }
 ],
 "metadata": {
  "kernelspec": {
   "display_name": "Python 3",
   "language": "python",
   "name": "python3"
  },
  "language_info": {
   "codemirror_mode": {
    "name": "ipython",
    "version": 3
   },
   "file_extension": ".py",
   "mimetype": "text/x-python",
   "name": "python",
   "nbconvert_exporter": "python",
   "pygments_lexer": "ipython3",
   "version": "3.11.0rc1"
  }
 },
 "nbformat": 4,
 "nbformat_minor": 2
}
