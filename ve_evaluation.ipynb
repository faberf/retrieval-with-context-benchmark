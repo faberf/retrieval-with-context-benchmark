{
 "cells": [
  {
   "cell_type": "code",
   "execution_count": 31,
   "metadata": {},
   "outputs": [],
   "source": [
    "import ujson as json\n",
    "import seaborn as sns\n",
    "import pandas as pd\n",
    "import matplotlib.pyplot as plt\n",
    "import numpy as np\n",
    "import os"
   ]
  },
  {
   "cell_type": "code",
   "execution_count": 3,
   "metadata": {},
   "outputs": [],
   "source": [
    "results = 've-benchmarking/query_results/'\n",
    "\n",
    "with open(results + \"asr.json\", \"r\") as f:\n",
    "    results_asr = json.load(f)\n",
    "\n",
    "with open(results + \"caption.json\", \"r\") as f:\n",
    "    results_caption = json.load(f)\n",
    "\n",
    "with open(results + \"clip.json\", \"r\") as f:\n",
    "    results_clip = json.load(f)\n",
    "\n",
    "with open(results + \"ocr.json\", \"r\") as f:\n",
    "    results_ocr = json.load(f)\n",
    "\n",
    "with open(results + \"mix.json\", \"r\") as f:\n",
    "    results_mix = json.load(f)"
   ]
  },
  {
   "cell_type": "code",
   "execution_count": 61,
   "metadata": {},
   "outputs": [],
   "source": [
    "def iou(query, candidate):\n",
    "    # convert nanoseconds to seconds\n",
    "    candidate_start = int(candidate[\"properties\"][\"start\"]) / 1000000000.0\n",
    "    candidate_end = int(candidate[\"properties\"][\"end\"]) / 1000000000.0\n",
    "    truth_start = query[\"segments\"][0][0]\n",
    "    truth_end = query[\"segments\"][0][1]\n",
    "\n",
    "    intersection = min(truth_end,candidate_end)-max(truth_start,candidate_start)\n",
    "    if intersection < 0:\n",
    "        # negative intersection = no overlap = IOU 0\n",
    "        return 0.0\n",
    "    \n",
    "    union = (candidate_end-candidate_start) + (truth_end-truth_start) - intersection\n",
    "    return intersection/union"
   ]
  },
  {
   "cell_type": "code",
   "execution_count": 100,
   "metadata": {},
   "outputs": [],
   "source": [
    "def format_iou(query, method, rank):\n",
    "    # considers only first result\n",
    "    if \"segments\" in query[\"query\"] and len(query[\"response\"][\"retrievables\"])>0 and \"start\" in query[\"response\"][\"retrievables\"][rank][\"properties\"]: \n",
    "        iou_score = iou(query[\"query\"],query[\"response\"][\"retrievables\"][rank])\n",
    "        return {\n",
    "            \"iou\": iou_score,\n",
    "            \"method\": method,\n",
    "            \"class\": query[\"query\"][\"tag\"][0]\n",
    "        }\n"
   ]
  },
  {
   "cell_type": "code",
   "execution_count": 101,
   "metadata": {},
   "outputs": [],
   "source": [
    "def rank(query, candidates):\n",
    "    truth = query[\"files\"]\n",
    "    rank = float(\"inf\")\n",
    "    for i in range(len(candidates)):\n",
    "        cand_file = os.path.basename(candidates[i][\"properties\"][\"path\"])\n",
    "        if cand_file in truth:\n",
    "            rank = i+1\n",
    "            break\n",
    "\n",
    "    return rank"
   ]
  },
  {
   "cell_type": "code",
   "execution_count": 102,
   "metadata": {},
   "outputs": [],
   "source": [
    "def format_mrr(query, method):\n",
    "    if len(query[\"response\"][\"retrievables\"]) > 0:\n",
    "        res_rank = rank(query[\"query\"], query[\"response\"][\"retrievables\"])\n",
    "        return {\n",
    "            \"rank\": res_rank,\n",
    "            \"mrr\": 1.0/res_rank,\n",
    "            \"method\": method,\n",
    "            \"class\": query[\"query\"][\"tag\"][0]\n",
    "        }"
   ]
  },
  {
   "cell_type": "markdown",
   "metadata": {},
   "source": [
    "## Intersection-over-union for video retrievables, MRR for image retrievables"
   ]
  },
  {
   "cell_type": "code",
   "execution_count": 103,
   "metadata": {},
   "outputs": [],
   "source": [
    "iou_results = []\n",
    "mrr_results = []\n",
    "for result in results_asr:\n",
    "    iou_results.append(format_iou(result, \"ASR\", 0))\n",
    "    mrr_results.append(format_mrr(result, \"ASR\"))\n",
    "\n",
    "\n",
    "for result in results_caption:\n",
    "    iou_results.append(format_iou(result, \"Caption\", 0))\n",
    "    mrr_results.append(format_mrr(result, \"Caption\"))\n",
    "\n",
    "\n",
    "for result in results_clip:\n",
    "    iou_results.append(format_iou(result, \"Clip\", 0))\n",
    "    mrr_results.append(format_mrr(result, \"Clip\"))\n",
    "\n",
    "\n",
    "for result in results_ocr:\n",
    "    iou_results.append(format_iou(result, \"OCR\", 0))\n",
    "    mrr_results.append(format_mrr(result, \"OCR\"))\n",
    "\n",
    "\n",
    "for result in results_mix:\n",
    "    iou_results.append(format_iou(result, \"Combined\", 0))\n",
    "    mrr_results.append(format_mrr(result, \"Combined\"))"
   ]
  },
  {
   "cell_type": "code",
   "execution_count": 106,
   "metadata": {},
   "outputs": [
    {
     "data": {
      "text/plain": [
       "[{'iou': 0.0, 'method': 'ASR', 'class': 'visual'},\n",
       " {'iou': 0.0, 'method': 'ASR', 'class': 'context'},\n",
       " {'iou': 0.3835877862595396, 'method': 'ASR', 'class': 'audio'},\n",
       " {'iou': 0.0, 'method': 'ASR', 'class': 'context'},\n",
       " {'iou': 0.04668930390492335, 'method': 'ASR', 'class': 'context'},\n",
       " {'iou': 0.6459999999999979, 'method': 'ASR', 'class': 'audio'},\n",
       " {'iou': 0.2684478371501285, 'method': 'ASR', 'class': 'context'},\n",
       " {'iou': 0.0, 'method': 'ASR', 'class': 'context'},\n",
       " {'iou': 0.0, 'method': 'ASR', 'class': 'context'},\n",
       " {'iou': 0.0, 'method': 'ASR', 'class': 'context'},\n",
       " {'iou': 0.0, 'method': 'ASR', 'class': 'visual'},\n",
       " {'iou': 0.0, 'method': 'ASR', 'class': 'audio'},\n",
       " {'iou': 0.0, 'method': 'ASR', 'class': 'visual'},\n",
       " {'iou': 0.0, 'method': 'ASR', 'class': 'visual'},\n",
       " {'iou': 0.0, 'method': 'Caption', 'class': 'visual'},\n",
       " {'iou': 0.0, 'method': 'Caption', 'class': 'context'},\n",
       " {'iou': 0.3597122302158272, 'method': 'Caption', 'class': 'context'},\n",
       " {'iou': 0.0, 'method': 'Caption', 'class': 'context'},\n",
       " {'iou': 0.0, 'method': 'Caption', 'class': 'context'},\n",
       " {'iou': 0.0, 'method': 'Caption', 'class': 'context'},\n",
       " {'iou': 0.17277125086385628, 'method': 'Caption', 'class': 'visual'},\n",
       " {'iou': 0.47404063205418046, 'method': 'Caption', 'class': 'audio'},\n",
       " {'iou': 0.0, 'method': 'Caption', 'class': 'visual'},\n",
       " {'iou': 0.6072423398328752, 'method': 'Caption', 'class': 'visual'},\n",
       " {'iou': 0.0, 'method': 'Clip', 'class': 'visual'},\n",
       " {'iou': 0.0, 'method': 'Clip', 'class': 'context'},\n",
       " {'iou': 0.05321507760532363, 'method': 'Clip', 'class': 'audio'},\n",
       " {'iou': 0.3597122302158272, 'method': 'Clip', 'class': 'context'},\n",
       " {'iou': 0.0, 'method': 'Clip', 'class': 'context'},\n",
       " {'iou': 0.16700610997963214, 'method': 'Clip', 'class': 'audio'},\n",
       " {'iou': 0.0, 'method': 'Clip', 'class': 'context'},\n",
       " {'iou': 0.5307855626326963, 'method': 'Clip', 'class': 'context'},\n",
       " {'iou': 0.1571338780641106, 'method': 'Clip', 'class': 'context'},\n",
       " {'iou': 0.17277125086385628, 'method': 'Clip', 'class': 'visual'},\n",
       " {'iou': 0.09746835443038097, 'method': 'Clip', 'class': 'audio'},\n",
       " {'iou': 0.03815261044176669, 'method': 'Clip', 'class': 'visual'},\n",
       " {'iou': 0.0, 'method': 'Clip', 'class': 'visual'},\n",
       " {'iou': 0.6072423398328752, 'method': 'Clip', 'class': 'visual'},\n",
       " {'iou': 0.0, 'method': 'Combined', 'class': 'context'},\n",
       " {'iou': 0.3835877862595396, 'method': 'Combined', 'class': 'audio'},\n",
       " {'iou': 0.0, 'method': 'Combined', 'class': 'context'},\n",
       " {'iou': 0.16700610997963214, 'method': 'Combined', 'class': 'audio'},\n",
       " {'iou': 0.2684478371501285, 'method': 'Combined', 'class': 'context'},\n",
       " {'iou': 0.1571338780641106, 'method': 'Combined', 'class': 'context'},\n",
       " {'iou': 0.09746835443038097, 'method': 'Combined', 'class': 'audio'},\n",
       " {'iou': 0.0, 'method': 'Combined', 'class': 'visual'}]"
      ]
     },
     "execution_count": 106,
     "metadata": {},
     "output_type": "execute_result"
    }
   ],
   "source": [
    "[r for r in iou_results if r is not None]"
   ]
  },
  {
   "cell_type": "code",
   "execution_count": 109,
   "metadata": {},
   "outputs": [],
   "source": [
    "mrr_df = pd.DataFrame([r for r in mrr_results if r is not None])\n",
    "iou_df = pd.DataFrame([r for r in iou_results if r is not None])"
   ]
  },
  {
   "cell_type": "code",
   "execution_count": 110,
   "metadata": {},
   "outputs": [],
   "source": [
    "cutoffs = [1,2,5,10,25,50,100,200]"
   ]
  },
  {
   "cell_type": "code",
   "execution_count": 89,
   "metadata": {},
   "outputs": [
    {
     "data": {
      "image/png": "[encoded data removed]",
      "text/plain": [
       "<Figure size 640x480 with 1 Axes>"
      ]
     },
     "metadata": {},
     "output_type": "display_data"
    }
   ],
   "source": [
    "# Create a DataFrame with bins and counts for each method\n",
    "hist_data = []\n",
    "for method_group in mrr_df.groupby(\"method\"):\n",
    "    method_name, method_group = method_group\n",
    "    counts, _ = np.histogram(method_group[\"rank\"], bins=cutoffs)\n",
    "    hist_data.extend({\"method\": method_name, \"rank\": bin, \"count\": count} for bin, count in zip(cutoffs, counts))\n",
    "\n",
    "hist_df = pd.DataFrame(hist_data)\n",
    "\n",
    "# Plotting side-by-side bars with the same width\n",
    "sns.barplot(data=hist_df, x=\"rank\", y=\"count\", hue=\"method\", dodge=True)\n",
    "\n",
    "xticklabels = [\"1\", \"2\", \"3-5\", \"6-10\", \"11-25\", \"26-50\", \"51-100\"]\n",
    "plt.xticks(range(len(xticklabels)), xticklabels)\n",
    "plt.yticks(range(13))\n",
    "\n",
    "# Add legend\n",
    "plt.legend(title=\"Method\")\n",
    "\n",
    "# Show the plot\n",
    "plt.show()"
   ]
  },
  {
   "cell_type": "code",
   "execution_count": 113,
   "metadata": {},
   "outputs": [
    {
     "data": {
      "text/plain": [
       "<Axes: xlabel='class', ylabel='iou'>"
      ]
     },
     "execution_count": 113,
     "metadata": {},
     "output_type": "execute_result"
    },
    {
     "data": {
      "image/png": "[encoded data removed]",
      "text/plain": [
       "<Figure size 640x480 with 1 Axes>"
      ]
     },
     "metadata": {},
     "output_type": "display_data"
    }
   ],
   "source": [
    "sns.barplot(data=iou_df, x=\"class\", y=\"iou\", hue=\"method\", dodge=True)"
   ]
  },
  {
   "cell_type": "code",
   "execution_count": null,
   "metadata": {},
   "outputs": [],
   "source": []
  }
 ],
 "metadata": {
  "kernelspec": {
   "display_name": "Python 3",
   "language": "python",
   "name": "python3"
  },
  "language_info": {
   "codemirror_mode": {
    "name": "ipython",
    "version": 3
   },
   "file_extension": ".py",
   "mimetype": "text/x-python",
   "name": "python",
   "nbconvert_exporter": "python",
   "pygments_lexer": "ipython3",
   "version": "3.11.0"
  }
 },
 "nbformat": 4,
 "nbformat_minor": 2
}
